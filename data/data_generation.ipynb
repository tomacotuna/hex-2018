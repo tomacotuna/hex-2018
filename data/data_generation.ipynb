{
 "cells": [
  {
   "cell_type": "code",
   "execution_count": 1,
   "metadata": {},
   "outputs": [],
   "source": [
    "from faker import Faker\n",
    "from faker.providers import BaseProvider\n",
    "import pandas as pd\n",
    "import random\n",
    "import csv"
   ]
  },
  {
   "cell_type": "code",
   "execution_count": 62,
   "metadata": {},
   "outputs": [],
   "source": [
    "locales = ['de_DE', 'en_AU', 'en_US', 'en_GB', 'hu_HU', 'nl_NL', 'pt_PT', 'sv_SE', 'pl_PL', 'ro_RO']\n",
    "\n",
    "def write_csv(generate_function, filename, size):\n",
    "    pd.DataFrame(\n",
    "        [generate_function(random.choice(locales)) for _ in range(size)]\n",
    "    ).to_csv(filename)"
   ]
  },
  {
   "cell_type": "markdown",
   "metadata": {},
   "source": [
    "## User data"
   ]
  },
  {
   "cell_type": "code",
   "execution_count": 63,
   "metadata": {},
   "outputs": [],
   "source": [
    "class VolunteerProvider(BaseProvider):\n",
    "    def volunteering_interests(self):\n",
    "        interests = [\n",
    "            'teaching',\n",
    "            'traveling',\n",
    "            'health',\n",
    "            'environment',\n",
    "            'children',\n",
    "            'construction',\n",
    "            ]\n",
    "        random.shuffle(interests)\n",
    "        return interests[:random.randint(3, 6)]\n",
    "\n",
    "    def organization_interests(self):\n",
    "        organization_names = [\n",
    "            \"A Better World\",\n",
    "            \"Building a Future\",\n",
    "            \"Digital Humanitarian Network\",\n",
    "            \"International Voluntary Services\",\n",
    "            \"Médecins Sans Frontières\",\n",
    "            \"Nursing Students Without Borders\",\n",
    "            \"United Nations Volunteers\",\n",
    "            \"Voluntary Service Overseas\",\n",
    "            \"Volunteer Service Abroad\",\n",
    "            \"Action Against Hunger\",\n",
    "            \"American Red Cross\",\n",
    "            \"ActionAid\",\n",
    "            \"The Asia Foundation\",\n",
    "            \"Atlantic Philanthropies\",\n",
    "            \"Bloomberg Philanthropies\",\n",
    "            \"Engineers Without Borders\",\n",
    "            \"GiveIndia\",\n",
    "            \"International Fund for Animal Welfare\",\n",
    "            \"Make-A-Wish Foundation\",\n",
    "            \"UNICEF\",\n",
    "            \"Youth With A Mission\",\n",
    "            \"World Literacy Foundation\",\n",
    "            \"World Medical Relief\",\n",
    "            \"World Scout Foundation\"\n",
    "            ]\n",
    "        random.shuffle(organization_names)\n",
    "        return organization_names[:random.randint(3, 6)]       \n",
    "    \n",
    "    def country_interests(self):\n",
    "        return [faker.country() for _ in range(random.randint(3, 10))]\n",
    "    \n",
    "    def skills(self):\n",
    "        skills = [\n",
    "            'teaching',\n",
    "            'first aid',\n",
    "            'crafts',\n",
    "            'construction',\n",
    "            'agriculture'\n",
    "        ]\n",
    "        random.shuffle(skills)\n",
    "        return skills[:random.randint(3, 6)]\n",
    "\n",
    "    @staticmethod\n",
    "    def multiInterests(array, n):\n",
    "        random.shuffle(array)\n",
    "        return array[:random.randint(3, n)]"
   ]
  },
  {
   "cell_type": "code",
   "execution_count": 64,
   "metadata": {},
   "outputs": [],
   "source": [
    "faker = Faker()\n",
    "faker.add_provider(VolunteerProvider)\n",
    "\n",
    "def generate_user(locale):\n",
    "    faker = Faker(locale)\n",
    "    en_faker = Faker('en_US')\n",
    "    faker.add_provider(VolunteerProvider)\n",
    "    user_columns = ['name', 'mail', 'birthdate', 'sex']\n",
    "    profile = faker.profile(fields=user_columns)\n",
    "    profile['address'] = faker.address().replace('\\n', ' ')\n",
    "    profile['occupation'] = en_faker.job()\n",
    "    profile['phone_number'] = faker.phone_number()\n",
    "    profile['volunteering_interests'] = faker.volunteering_interests()\n",
    "    profile['organization_interests'] = faker.organization_interests()\n",
    "    profile['country_interests'] = faker.country_interests()\n",
    "    profile['skills'] = faker.skills()\n",
    "    return profile"
   ]
  },
  {
   "cell_type": "code",
   "execution_count": 65,
   "metadata": {},
   "outputs": [],
   "source": [
    "# write data\n",
    "write_csv(generate_user, 'users.csv', 10)"
   ]
  },
  {
   "cell_type": "markdown",
   "metadata": {},
   "source": [
    "## Organizations"
   ]
  },
  {
   "cell_type": "code",
   "execution_count": 56,
   "metadata": {},
   "outputs": [],
   "source": [
    "class OrganizationProvider(BaseProvider):\n",
    "    def organization_name(self):\n",
    "        organization_names = [\n",
    "            \"A Better World\",\n",
    "            \"Building a Future\",\n",
    "            \"Digital Humanitarian Network\",\n",
    "            \"International Voluntary Services\",\n",
    "            \"Médecins Sans Frontières\",\n",
    "            \"Nursing Students Without Borders\",\n",
    "            \"United Nations Volunteers\",\n",
    "            \"Voluntary Service Overseas\",\n",
    "            \"Volunteer Service Abroad\",\n",
    "            \"Action Against Hunger\",\n",
    "            \"American Red Cross\",\n",
    "            \"ActionAid\",\n",
    "            \"The Asia Foundation\",\n",
    "            \"Atlantic Philanthropies\",\n",
    "            \"Bloomberg Philanthropies\",\n",
    "            \"Engineers Without Borders\",\n",
    "            \"GiveIndia\",\n",
    "            \"International Fund for Animal Welfare\",\n",
    "            \"Make-A-Wish Foundation\",\n",
    "            \"UNICEF\",\n",
    "            \"Youth With A Mission\",\n",
    "            \"World Literacy Foundation\",\n",
    "            \"World Medical Relief\",\n",
    "            \"World Scout Foundation\"\n",
    "            ]\n",
    "        return random.choice(organization_names)\n",
    "    def contact_details(self):\n",
    "        return {\n",
    "            'name': faker.name(),\n",
    "            'phone_number': faker.phone_number().replace('x', '-')\n",
    "        }"
   ]
  },
  {
   "cell_type": "code",
   "execution_count": 57,
   "metadata": {},
   "outputs": [],
   "source": [
    "faker.add_provider(OrganizationProvider)"
   ]
  },
  {
   "cell_type": "code",
   "execution_count": 72,
   "metadata": {},
   "outputs": [],
   "source": [
    "def generate_organization(locale):\n",
    "    faker = Faker(locale)\n",
    "    en_faker = Faker('en_US')\n",
    "    faker.add_provider(OrganizationProvider)\n",
    "    profile = {\n",
    "        'name': faker.organization_name(),\n",
    "        'address': faker.address().replace('\\n', ' '),\n",
    "        'contact': faker.contact_details(),\n",
    "        'join_date': str(faker.date_this_decade()),\n",
    "        # slightly lower chance of getting true for premiums\n",
    "        'premium': faker.boolean(chance_of_getting_true=40)\n",
    "        \n",
    "    }\n",
    "    return profile"
   ]
  },
  {
   "cell_type": "code",
   "execution_count": 73,
   "metadata": {},
   "outputs": [],
   "source": [
    "# write data\n",
    "write_csv(generate_organization, 'organizations.csv', 10)"
   ]
  },
  {
   "cell_type": "markdown",
   "metadata": {},
   "source": [
    "## Events"
   ]
  },
  {
   "cell_type": "code",
   "execution_count": 115,
   "metadata": {},
   "outputs": [],
   "source": [
    "def generate_event(locale):\n",
    "    faker = Faker(locale)\n",
    "#    en_faker = Faker('en_US')\n",
    "    profile = {\n",
    "        'date_started': str(faker.date_this_century()),\n",
    "        'location': (float(faker.latitude()), float(faker.longitude())),\n",
    "        'ongoing': faker.boolean(),\n",
    "    }\n",
    "    profile['volunteers_involved'] = random.randint(10, 3000) if profile['ongoing'] else random.randint(10, 1000)\n",
    "    return  profile"
   ]
  },
  {
   "cell_type": "code",
   "execution_count": 116,
   "metadata": {},
   "outputs": [],
   "source": [
    "write_csv(generate_event, 'events.csv', 10)"
   ]
  }
 ],
 "metadata": {
  "kernelspec": {
   "display_name": "Python 3",
   "language": "python",
   "name": "python3"
  },
  "language_info": {
   "codemirror_mode": {
    "name": "ipython",
    "version": 3
   },
   "file_extension": ".py",
   "mimetype": "text/x-python",
   "name": "python",
   "nbconvert_exporter": "python",
   "pygments_lexer": "ipython3",
   "version": "3.6.4"
  }
 },
 "nbformat": 4,
 "nbformat_minor": 2
}
